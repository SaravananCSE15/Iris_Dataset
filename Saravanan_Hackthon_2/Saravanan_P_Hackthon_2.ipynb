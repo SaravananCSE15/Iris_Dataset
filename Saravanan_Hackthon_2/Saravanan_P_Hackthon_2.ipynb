{
  "nbformat": 4,
  "nbformat_minor": 0,
  "metadata": {
    "colab": {
      "provenance": []
    },
    "kernelspec": {
      "name": "python3",
      "display_name": "Python 3"
    },
    "language_info": {
      "name": "python"
    }
  },
  "cells": [
    {
      "cell_type": "code",
      "execution_count": null,
      "metadata": {
        "id": "z5T0iavF5OfT"
      },
      "outputs": [],
      "source": [
        "import pandas as pd\n",
        "\n",
        "# Load the dataset into a dataframe\n",
        "df = pd.read_csv(\"/content/drive/MyDrive/Dataset/iris_modified.csv\")\n",
        "\n",
        "# Display the first few rows of the dataframe\n",
        "print(df.head())\n"
      ]
    },
    {
      "cell_type": "code",
      "source": [
        "from collections import defaultdict\n",
        "\n",
        "# Extract the selected features into the feature matrix X\n",
        "X = df.drop(columns=[\"species\"])  # Assuming \"species\" is the target variable\n",
        "\n",
        "# Extract the target variable into the target vector Y\n",
        "Y =df[\"species\"]\n",
        "\n",
        "\n",
        "# Display the first few rows of X and Y\n",
        "print(\"X (features):\")\n",
        "print(X.head())\n",
        "print(\"\\nY (target variable):\")\n",
        "print(Y.head())\n"
      ],
      "metadata": {
        "colab": {
          "base_uri": "https://localhost:8080/"
        },
        "id": "2cvUjcDd6oT6",
        "outputId": "778cdfbc-5557-49c3-999e-16ad889c48b4"
      },
      "execution_count": 44,
      "outputs": [
        {
          "output_type": "stream",
          "name": "stdout",
          "text": [
            "X (features):\n",
            "   sepal_length  sepal_width  petal_length  petal_width\n",
            "0           5.1          3.5           1.4          0.2\n",
            "1           4.9          3.0           1.4          0.2\n",
            "2           4.7          3.2           1.3          0.2\n",
            "3           4.6          3.1           1.5          0.2\n",
            "4           5.0          3.6           1.4          0.2\n",
            "\n",
            "Y (target variable):\n",
            "0    Iris-setosa\n",
            "1    Iris-setosa\n",
            "2    Iris-setosa\n",
            "3    Iris-setosa\n",
            "4    Iris-setosa\n",
            "Name: species, dtype: object\n"
          ]
        }
      ]
    },
    {
      "cell_type": "code",
      "source": [
        "# Check for null values in the dataframe\n",
        "null_values = df.isnull().sum()\n",
        "\n",
        "# Print the number of null values in each column\n",
        "print(\"Number of null values in each column:\")\n",
        "print(null_values)\n"
      ],
      "metadata": {
        "colab": {
          "base_uri": "https://localhost:8080/"
        },
        "id": "tS6F7lXp8KFk",
        "outputId": "1921f2fb-f24d-4f37-a825-88ce74440f23"
      },
      "execution_count": 45,
      "outputs": [
        {
          "output_type": "stream",
          "name": "stdout",
          "text": [
            "Number of null values in each column:\n",
            "sepal_length    0\n",
            "sepal_width     0\n",
            "petal_length    0\n",
            "petal_width     0\n",
            "species         0\n",
            "dtype: int64\n"
          ]
        }
      ]
    },
    {
      "cell_type": "code",
      "source": [
        "from sklearn.model_selection import train_test_split\n",
        "\n",
        "# Split the data into training and validation sets\n",
        "X_train, X_val, Y_train, Y_val = train_test_split(X, Y,train_size=0.8,random_state=10)\n",
        "\n",
        "# Display the shape of the training and validation sets\n",
        "print(\"Training set shape (X, Y):\", X_train.shape, Y_train.shape)\n",
        "print(\"Validation set shape (X, Y):\", X_val.shape, Y_val.shape)\n"
      ],
      "metadata": {
        "colab": {
          "base_uri": "https://localhost:8080/"
        },
        "id": "-M1_4Bxx8T9z",
        "outputId": "3cd7fe9e-a362-43fb-da7d-f1f53c57de8a"
      },
      "execution_count": 46,
      "outputs": [
        {
          "output_type": "stream",
          "name": "stdout",
          "text": [
            "Training set shape (X, Y): (120, 4) (120,)\n",
            "Validation set shape (X, Y): (30, 4) (30,)\n"
          ]
        }
      ]
    },
    {
      "cell_type": "markdown",
      "source": [
        "#4) Parse the Json and identify the model where the algorithm “is_selected”=True.\n",
        "Identify the hyperparameters to be used to build those models. Build the selected models and perform hyperparameter tuning using GridSearchCV.\n"
      ],
      "metadata": {
        "id": "_Ppa9LAoHK79"
      }
    },
    {
      "cell_type": "code",
      "source": [
        "from sklearn.ensemble import RandomForestClassifier\n",
        "\n",
        "# Create a Random Forest classifier with 100 trees\n",
        "clf = RandomForestClassifier(n_estimators=100)\n",
        "\n",
        "# Train the classifier on the training data\n",
        "clf.fit(X_train, Y_train)\n",
        "\n",
        "# Predict the labels of the validation data\n",
        "Y_pred = clf.predict(X_val)\n",
        "\n",
        "# Calculate the accuracy of the classifier\n",
        "accuracy = clf.score(X_val, Y_val)\n",
        "\n",
        "# Print the accuracy of the model\n",
        "print(\"Accuracy:\", accuracy)\n"
      ],
      "metadata": {
        "colab": {
          "base_uri": "https://localhost:8080/"
        },
        "id": "HbqWLV969g17",
        "outputId": "7a6a2896-e404-4be0-ad8c-87b09b34d555"
      },
      "execution_count": 47,
      "outputs": [
        {
          "output_type": "stream",
          "name": "stdout",
          "text": [
            "Accuracy: 1.0\n"
          ]
        }
      ]
    },
    {
      "cell_type": "code",
      "source": [
        "from sklearn.model_selection import GridSearchCV\n",
        "\n",
        "# Define the grid of hyperparameters to search\n",
        "param_grid = {\n",
        "    'n_estimators': [50, 100, 150, 200],\n",
        "    'max_depth': [None, 5, 10, 30],\n",
        "    'min_samples_split': [2, 5, 10],\n",
        "    'min_samples_leaf': [1, 2, 5]\n",
        "}\n",
        "\n",
        "# Create the GridSearchCV object\n",
        "grid_search = GridSearchCV(clf, param_grid, cv=5)\n",
        "\n",
        "# Fit the grid search object to the data\n",
        "grid_search.fit(X_train, Y_train)\n",
        "\n",
        "# Get the best set of hyperparameters\n",
        "best_params = grid_search.best_params_\n",
        "\n",
        "# Print the best hyperparameters\n",
        "print(\"Best parameters:\", best_params)\n",
        "\n",
        "# Get the best model\n",
        "best_model = grid_search.best_estimator_\n",
        "\n",
        "# Predict the labels of the validation data using the best model\n",
        "Y_pred = best_model.predict(X_val)\n",
        "\n",
        "# Calculate the accuracy of the best model\n",
        "accuracy = best_model.score(X_val, Y_val)\n",
        "\n",
        "# Print the accuracy of the best model\n",
        "print(\"Accuracy of the best model:\", accuracy)\n"
      ],
      "metadata": {
        "id": "N8hXDhKp9ohF"
      },
      "execution_count": null,
      "outputs": []
    },
    {
      "cell_type": "code",
      "source": [
        "from sklearn.metrics import confusion_matrix, classification_report\n",
        "\n",
        "# Generate confusion matrix\n",
        "confusion_matrix_RC = confusion_matrix(Y_val, Y_pred)\n",
        "\n",
        "# Print confusion matrix\n",
        "print(\"Confusion Matrix:\")\n",
        "print(confusion_matrix_RC)\n",
        "\n",
        "# Generate classification report\n",
        "classification_report_RC = classification_report(Y_val, Y_pred)\n",
        "\n",
        "# Print classification report\n",
        "print(\"Classification Report:\")\n",
        "print(classification_report_RC)\n"
      ],
      "metadata": {
        "id": "vccotfDW-Gv3"
      },
      "execution_count": null,
      "outputs": []
    },
    {
      "cell_type": "markdown",
      "source": [
        "#GradientBoostClassifier"
      ],
      "metadata": {
        "id": "6fe3CiKXHQPd"
      }
    },
    {
      "cell_type": "code",
      "source": [
        "from sklearn.ensemble import GradientBoostingClassifier\n",
        "\n",
        "# Create a GradientBoostingClassifier object\n",
        "gb_clf = GradientBoostingClassifier()\n",
        "\n",
        "# Train the classifier on the training data\n",
        "gb_clf.fit(X_train, Y_train)\n",
        "\n",
        "# Predict the labels of the validation data\n",
        "y_pred_gb = gb_clf.predict(X_val)\n",
        "\n",
        "# Calculate the accuracy of the classifier\n",
        "gb_accuracy = gb_clf.score(X_val, Y_val)\n",
        "\n",
        "# Print the accuracy of the model\n",
        "print(\"Accuracy of GradientBoostingClassifier:\", gb_accuracy)\n",
        "\n",
        "# Generate confusion matrix\n",
        "confusion_matrix_gb = confusion_matrix(Y_val, y_pred_gb)\n",
        "\n",
        "# Print confusion matrix\n",
        "print(\"Confusion Matrix for GradientBoostingClassifier:\")\n",
        "print(confusion_matrix_gb)\n",
        "\n",
        "# Generate classification report\n",
        "classification_report_gb = classification_report(Y_val, y_pred_gb)\n",
        "\n",
        "# Print classification report\n",
        "print(\"Classification Report for GradientBoostingClassifier:\")\n",
        "print(classification_report_gb)\n"
      ],
      "metadata": {
        "id": "5vRtOi7CCjZp"
      },
      "execution_count": null,
      "outputs": []
    },
    {
      "cell_type": "markdown",
      "source": [
        "#XGBoostClassifier"
      ],
      "metadata": {
        "id": "WPTQgZn9HVbz"
      }
    },
    {
      "source": [
        "from sklearn.preprocessing import LabelEncoder\n",
        "\n",
        "# Create a LabelEncoder object\n",
        "le = LabelEncoder()\n",
        "\n",
        "# Encode the target variable\n",
        "Y_train_encoded = le.fit_transform(Y_train)\n",
        "Y_val_encoded = le.transform(Y_val)\n",
        "\n",
        "# Train the XGBClassifier with the encoded target variable\n",
        "xgb_clf.fit(X_train, Y_train_encoded)\n",
        "\n",
        "# Predict the labels of the validation data using the encoded target variable\n",
        "y_pred_xgb = xgb_clf.predict(X_val)\n",
        "\n",
        "# Calculate the accuracy of the classifier\n",
        "xgb_accuracy = xgb_clf.score(X_val, Y_val_encoded)\n",
        "\n",
        "# Print the accuracy of the model\n",
        "print(\"Accuracy of XGBClassifier:\", xgb_accuracy)"
      ],
      "cell_type": "code",
      "metadata": {
        "id": "yBW-oMNBC7-q"
      },
      "execution_count": null,
      "outputs": []
    },
    {
      "cell_type": "code",
      "source": [
        "# Generate confusion matrix for XGBClassifier\n",
        "confusion_matrix_xgb = confusion_matrix(Y_val_encoded, y_pred_xgb)\n",
        "\n",
        "# Print confusion matrix for XGBClassifier\n",
        "print(\"Confusion Matrix for XGBClassifier:\")\n",
        "print(confusion_matrix_xgb)\n",
        "\n",
        "# Generate classification report for XGBClassifier\n",
        "classification_report_xgb = classification_report(Y_val_encoded, y_pred_xgb)\n",
        "\n",
        "# Print classification report for XGBClassifier\n",
        "print(\"Classification Report for XGBClassifier:\")\n",
        "print(classification_report_xgb)\n"
      ],
      "metadata": {
        "id": "c5GSJCCVECfh"
      },
      "execution_count": null,
      "outputs": []
    },
    {
      "cell_type": "markdown",
      "source": [
        "#CatBoostClassifier"
      ],
      "metadata": {
        "id": "6RUsZU_2HZD4"
      }
    },
    {
      "cell_type": "code",
      "source": [
        "!pip install catboost\n"
      ],
      "metadata": {
        "id": "AS_mURJADOs5"
      },
      "execution_count": null,
      "outputs": []
    },
    {
      "cell_type": "code",
      "source": [
        "from catboost import CatBoostClassifier\n",
        "\n",
        "# Create a CatBoostClassifier object\n",
        "cbc = CatBoostClassifier()\n",
        "\n",
        "# Train the classifier on the training data\n",
        "cbc.fit(X_train, Y_train)\n",
        "\n",
        "# Predict the labels of the validation data\n",
        "y_pred_cbc = cbc.predict(X_val)\n",
        "\n",
        "# Calculate the accuracy of the classifier\n",
        "cbc_accuracy = cbc.score(X_val, Y_val)\n",
        "\n",
        "# Print the accuracy of the model\n",
        "print(\"Accuracy of CatBoostClassifier:\", cbc_accuracy)\n",
        "\n",
        "# Generate confusion matrix\n",
        "confusion_matrix_cbc = confusion_matrix(Y_val, y_pred_cbc)\n",
        "\n",
        "# Print confusion matrix\n",
        "print(\"Confusion Matrix for CatBoostClassifier:\")\n",
        "print(confusion_matrix_cbc)\n",
        "\n",
        "# Generate classification report\n",
        "classification_report_cbc = classification_report(Y_val, y_pred_cbc)\n",
        "\n",
        "# Print classification report\n",
        "print(\"Classification Report for CatBoostClassifier:\")\n",
        "print(classification_report_cbc)\n"
      ],
      "metadata": {
        "id": "2rL3Itl1DAoJ"
      },
      "execution_count": null,
      "outputs": []
    },
    {
      "cell_type": "markdown",
      "source": [
        "#5) Evaluate the models based on the type of problem. Print the results which can be used to compare and conclude upon which is a better model. Use the following evaluation metrics:\n",
        "Classification metrics: confusion matrix, classification report\n"
      ],
      "metadata": {
        "id": "leXROWycG-oP"
      }
    },
    {
      "cell_type": "code",
      "source": [
        "import pandas as pd\n",
        "\n",
        "# Create a table to compare the models\n",
        "models = ['Random Forest', 'Gradient Boosting', 'XGBoost', 'CatBoost']\n",
        "accuracy = [accuracy, gb_accuracy, xgb_accuracy, cbc_accuracy]\n",
        "classification_reports = [classification_report_RC, classification_report_gb, classification_report_xgb, classification_report_cbc]\n",
        "confusion_matrices = [confusion_matrix_RC, confusion_matrix_gb, confusion_matrix_xgb, confusion_matrix_cbc]\n",
        "\n",
        "# Create a DataFrame\n",
        "df = pd.DataFrame({\n",
        "    'Model': models,\n",
        "    'Accuracy': accuracy,\n",
        "    'Classification Report': classification_reports,\n",
        "    'Confusion Matrix': confusion_matrices\n",
        "})\n",
        "\n",
        "# Display the DataFrame\n",
        "print(df.to_string())\n"
      ],
      "metadata": {
        "id": "jfdpZbLQEPhx"
      },
      "execution_count": null,
      "outputs": []
    },
    {
      "cell_type": "markdown",
      "source": [
        "In conclusion, all models are strong candidates, but if forced to choose one, Random Forest, Gradient Boosting, or XGBoost might be slightly preferred due to their perfect accuracy and slightly simpler interpretation compared to CatBoost."
      ],
      "metadata": {
        "id": "jaTtrZDEGvpm"
      }
    },
    {
      "cell_type": "code",
      "source": [],
      "metadata": {
        "id": "2XD_dYk7GxI5"
      },
      "execution_count": null,
      "outputs": []
    }
  ]
}